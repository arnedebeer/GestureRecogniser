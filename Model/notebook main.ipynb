{
 "cells": [
  {
   "attachments": {},
   "cell_type": "markdown",
   "metadata": {},
   "source": [
    "# Imports..."
   ]
  },
  {
   "cell_type": "code",
   "execution_count": 1,
   "metadata": {},
   "outputs": [],
   "source": [
    "import tensorflow as tf\n",
    "import sklearn as sk\n",
    "from sklearn import model_selection\n",
    "import numpy as np\n",
    "\n",
    "import data_loading\n",
    "import data_visualisation\n",
    "from model_constructor import ModelConstructor, ModelName\n",
    "\n",
    "import model_convertor"
   ]
  },
  {
   "attachments": {},
   "cell_type": "markdown",
   "metadata": {},
   "source": [
    "# Ensure same seed on every run in order to get consistent results"
   ]
  },
  {
   "cell_type": "code",
   "execution_count": 2,
   "metadata": {},
   "outputs": [],
   "source": [
    "# The below is necessary for starting Numpy generated random numbers\n",
    "# in a well-defined initial state.\n",
    "np.random.seed(1337)\n",
    "\n",
    "# The below set_seed() will make random number generation\n",
    "# in the TensorFlow backend have a well-defined initial state.\n",
    "# For further details, see:\n",
    "# https://www.tensorflow.org/api_docs/python/tf/random/set_seed\n",
    "tf.random.set_seed(5)\n",
    "\n",
    "# We also specify a random seed for sklearn, used for K-fold cross validation\n",
    "sklearn_random_seed = 5354"
   ]
  },
  {
   "attachments": {},
   "cell_type": "markdown",
   "metadata": {},
   "source": [
    "# Some compatibility checks"
   ]
  },
  {
   "cell_type": "code",
   "execution_count": 3,
   "metadata": {},
   "outputs": [
    {
     "name": "stdout",
     "output_type": "stream",
     "text": [
      "TF version: 2.8.4\n",
      "Logical devices: [LogicalDevice(name='/device:CPU:0', device_type='CPU'), LogicalDevice(name='/device:GPU:0', device_type='GPU')]\n",
      "TF built with CUDA: True\n",
      "Visible devices: [PhysicalDevice(name='/physical_device:CPU:0', device_type='CPU'), PhysicalDevice(name='/physical_device:GPU:0', device_type='GPU')]\n",
      "Num GPUs Available:  1\n"
     ]
    }
   ],
   "source": [
    "print(f\"TF version: {tf.__version__}\")\n",
    "print(f\"Logical devices: {tf.config.list_logical_devices()}\")\n",
    "print(f\"TF built with CUDA: {tf.test.is_built_with_cuda()}\")\n",
    "print(f\"Visible devices: {tf.config.get_visible_devices()}\")\n",
    "print(\"Num GPUs Available: \", len(tf.config.list_physical_devices('GPU')))\n",
    "\n",
    "tf.debugging.set_log_device_placement(True)"
   ]
  },
  {
   "attachments": {},
   "cell_type": "markdown",
   "metadata": {},
   "source": [
    "# Specifying our model and training parameters"
   ]
  },
  {
   "cell_type": "code",
   "execution_count": 4,
   "metadata": {},
   "outputs": [
    {
     "name": "stdout",
     "output_type": "stream",
     "text": [
      "Input shape: (20, 5, 3)\n",
      "Model: \"sequential\"\n",
      "_________________________________________________________________\n",
      " Layer (type)                Output Shape              Param #   \n",
      "=================================================================\n",
      " random_translation (RandomT  (None, 20, 5, 3)         0         \n",
      " ranslation)                                                     \n",
      "                                                                 \n",
      " random_contrast (RandomCont  (None, 20, 5, 3)         0         \n",
      " rast)                                                           \n",
      "                                                                 \n",
      " conv2d (Conv2D)             (None, 20, 5, 16)         160       \n",
      "                                                                 \n",
      " max_pooling2d (MaxPooling2D  (None, 19, 5, 16)        0         \n",
      " )                                                               \n",
      "                                                                 \n",
      " conv2d_1 (Conv2D)           (None, 18, 4, 32)         2080      \n",
      "                                                                 \n",
      " max_pooling2d_1 (MaxPooling  (None, 9, 4, 32)         0         \n",
      " 2D)                                                             \n",
      "                                                                 \n",
      " conv2d_2 (Conv2D)           (None, 8, 4, 64)          4160      \n",
      "                                                                 \n",
      " max_pooling2d_2 (MaxPooling  (None, 4, 3, 64)         0         \n",
      " 2D)                                                             \n",
      "                                                                 \n",
      " flatten (Flatten)           (None, 768)               0         \n",
      "                                                                 \n",
      " dense (Dense)               (None, 128)               98432     \n",
      "                                                                 \n",
      " dropout (Dropout)           (None, 128)               0         \n",
      "                                                                 \n",
      " dense_1 (Dense)             (None, 128)               16512     \n",
      "                                                                 \n",
      " dropout_1 (Dropout)         (None, 128)               0         \n",
      "                                                                 \n",
      " predictions (Dense)         (None, 10)                1290      \n",
      "                                                                 \n",
      "=================================================================\n",
      "Total params: 122,634\n",
      "Trainable params: 122,634\n",
      "Non-trainable params: 0\n",
      "_________________________________________________________________\n"
     ]
    }
   ],
   "source": [
    "batch_size = 265\n",
    "epochs = 768 \n",
    "curr_model = ModelName.BEERNET_LITE\n",
    "include_preprocessing_layers = True\n",
    "\n",
    "# Trying out various input shapes\n",
    "# input_shape = (100, 3) # For 1D CNN\n",
    "# input_shape = (100, 3, 1)\n",
    "# input_shape = (50, 2, 3)\n",
    "# input_shape = (25, 4, 3)\n",
    "input_shape = (20, 5, 3)\n",
    "# input_shape = (10, 10, 3)\n",
    "\n",
    "\n",
    "print(\"Input shape:\", input_shape)\n",
    "\n",
    "# Number of classes is the number of gestures, which is the number of output neurons\n",
    "num_classes = len(data_loading.GestureNames)\n",
    "\n",
    "model: tf.keras.Model = ModelConstructor.get_model(model=curr_model, input_shape=input_shape, \n",
    "                                                   num_classes=num_classes, include_preprocessing=include_preprocessing_layers)\n",
    "\n",
    "model.compile(optimizer=tf.keras.optimizers.Adam(learning_rate=0.001), \n",
    "                  loss=tf.keras.losses.SparseCategoricalCrossentropy(),\n",
    "                  metrics=[tf.keras.metrics.SparseCategoricalAccuracy()])\n",
    "\n",
    "# Before K-fold cross validation, store the initial weights of the model, \n",
    "# so that we can train the model from scratch on the entire dataset after K-fold cross validation without recompiling the model\n",
    "initial_weights = model.get_weights()\n",
    "\n",
    "model.summary()"
   ]
  },
  {
   "attachments": {},
   "cell_type": "markdown",
   "metadata": {},
   "source": [
    "# Load all data that was collected"
   ]
  },
  {
   "cell_type": "code",
   "execution_count": 5,
   "metadata": {},
   "outputs": [
    {
     "name": "stdout",
     "output_type": "stream",
     "text": [
      "All candidates: ['Arne_L', 'B1_L', 'C2_L', 'C4_L', 'C5_L', 'C8_L', 'C9_L', 'E0_L', 'E1_L', 'E10_L', 'E11_L', 'E12_L', 'E3_L', 'E5_L', 'E7_L', 'sem_15052023_L', 'A0_R', 'A1_R', 'A3_R', 'A4_R', 'A5_R', 'Arne_R', 'B1_R', 'C1_R', 'C3_R', 'C5_R', 'C6_R', 'C9_R', 'E0_R', 'E10_R', 'E11_R', 'E12_R', 'E2_R', 'E3_R', 'E4_R', 'E5_R', 'E6_R', 'E7_R', 'E8_R', 'E9_R', 'sem_15052023_R']\n",
      "Length of all data: (2314, 20, 5, 3)\n"
     ]
    }
   ],
   "source": [
    "# This gets all data and puts them into a single dictionary with the following structure:\n",
    "# {\n",
    "#     \"candidate_id\": {\n",
    "#         \"gesture_name\": [\n",
    "#             [sample1],\n",
    "#             [sample2],\n",
    "#             ...\n",
    "#         ],\n",
    "#         ...\n",
    "#     },\n",
    "#     ...\n",
    "# }\n",
    "\n",
    "\n",
    "all_data_per_candidate = data_loading.load_gestures_grouped_per_candidate(use_left_hand=True, use_right_hand=True, split_candidate_per_hand=True)\n",
    "all_candidates = list(all_data_per_candidate.keys())\n",
    "\n",
    "# Possibly remove unwanted candidates\n",
    "all_candidates.remove(\"b2_L\")\n",
    "all_candidates.remove(\"b2_R\")\n",
    "# all_candidates.remove(\"b2\")\n",
    "\n",
    "# all_data and all_labels are used for training the final model after K-fold cross validation\n",
    "all_data, all_labels = data_loading.get_data_and_labels_from_candidates(list(all_data_per_candidate.keys()), all_data_per_candidate, input_shape=input_shape)\n",
    "\n",
    "# Print all candidates, for checking purposes\n",
    "print(\"All candidates:\", all_candidates)\n",
    "\n",
    "# Print length of entire dataset\n",
    "print(\"Length of all data:\", all_data.shape)\n",
    "\n",
    "# Plot one sample to check pre-processing\n",
    "# try:\n",
    "#     data_visualisation.plot_data_as_image(training_data[0], label=training_labels[0])\n",
    "#     data_visualisation.plot_data_as_graph(training_data[0], title=training_labels[0])\n",
    "# except Exception as e:\n",
    "#     print(\"Error plotting data as image: \", e)\n",
    "#     pass"
   ]
  },
  {
   "attachments": {},
   "cell_type": "markdown",
   "metadata": {},
   "source": [
    "# Testing the model using K-Fold Cross Validation"
   ]
  },
  {
   "cell_type": "code",
   "execution_count": 6,
   "metadata": {},
   "outputs": [
    {
     "name": "stdout",
     "output_type": "stream",
     "text": [
      "Training model with architecture: BEERNET_LITE with 10-fold cross validation\n",
      "Using 41 candidates/hands of which 16 used their left hand and 25 used their right hand\n",
      "-----------------------------------\n",
      "Fold 1 of 10. Training on: [ 0  1  2  3  5  6  7  8  9 10 11 12 13 14 16 17 19 20 21 22 23 24 25 26\n",
      " 27 28 30 31 32 33 34 35 36 37 38 39], testing on [ 4 15 18 29 40]\n",
      "Train candidates: ['Arne_L' 'B1_L' 'C2_L' 'C4_L' 'C8_L' 'C9_L' 'E0_L' 'E1_L' 'E10_L' 'E11_L'\n",
      " 'E12_L' 'E3_L' 'E5_L' 'E7_L' 'A0_R' 'A1_R' 'A4_R' 'A5_R' 'Arne_R' 'B1_R'\n",
      " 'C1_R' 'C3_R' 'C5_R' 'C6_R' 'C9_R' 'E0_R' 'E11_R' 'E12_R' 'E2_R' 'E3_R'\n",
      " 'E4_R' 'E5_R' 'E6_R' 'E7_R' 'E8_R' 'E9_R'] Test candidates: ['C5_L' 'sem_15052023_L' 'A3_R' 'E10_R' 'sem_15052023_R']\n",
      "Loss and accuracy: [2.126030445098877, 0.6716980934143066]\n",
      "-----------------------------------\n",
      "Fold 2 of 10. Training on: [ 0  1  2  4  5  7  8  9 10 11 12 13 14 15 16 17 18 19 20 21 22 23 24 26\n",
      " 27 28 29 30 31 33 34 35 36 37 38 39 40], testing on [ 3  6 25 32]\n",
      "Train candidates: ['Arne_L' 'B1_L' 'C2_L' 'C5_L' 'C8_L' 'E0_L' 'E1_L' 'E10_L' 'E11_L'\n",
      " 'E12_L' 'E3_L' 'E5_L' 'E7_L' 'sem_15052023_L' 'A0_R' 'A1_R' 'A3_R' 'A4_R'\n",
      " 'A5_R' 'Arne_R' 'B1_R' 'C1_R' 'C3_R' 'C6_R' 'C9_R' 'E0_R' 'E10_R' 'E11_R'\n",
      " 'E12_R' 'E3_R' 'E4_R' 'E5_R' 'E6_R' 'E7_R' 'E8_R' 'E9_R' 'sem_15052023_R'] Test candidates: ['C4_L' 'C9_L' 'C5_R' 'E2_R']\n",
      "Loss and accuracy: [0.7209831476211548, 0.8394495248794556]\n",
      "-----------------------------------\n",
      "Fold 3 of 10. Training on: [ 0  2  3  4  5  6  7  8  9 11 12 13 14 15 16 17 18 20 21 22 23 24 25 26\n",
      " 27 28 29 30 31 32 33 34 35 36 37 39 40], testing on [ 1 10 19 38]\n",
      "Train candidates: ['Arne_L' 'C2_L' 'C4_L' 'C5_L' 'C8_L' 'C9_L' 'E0_L' 'E1_L' 'E10_L' 'E12_L'\n",
      " 'E3_L' 'E5_L' 'E7_L' 'sem_15052023_L' 'A0_R' 'A1_R' 'A3_R' 'A5_R'\n",
      " 'Arne_R' 'B1_R' 'C1_R' 'C3_R' 'C5_R' 'C6_R' 'C9_R' 'E0_R' 'E10_R' 'E11_R'\n",
      " 'E12_R' 'E2_R' 'E3_R' 'E4_R' 'E5_R' 'E6_R' 'E7_R' 'E9_R' 'sem_15052023_R'] Test candidates: ['B1_L' 'E11_L' 'A4_R' 'E8_R']\n",
      "Loss and accuracy: [0.7445111274719238, 0.8382353186607361]\n",
      "-----------------------------------\n",
      "Fold 4 of 10. Training on: [ 0  1  2  3  4  5  6  7  8  9 10 11 13 15 16 17 18 19 20 21 22 24 25 26\n",
      " 28 29 30 31 32 33 34 35 36 37 38 39 40], testing on [12 14 23 27]\n",
      "Train candidates: ['Arne_L' 'B1_L' 'C2_L' 'C4_L' 'C5_L' 'C8_L' 'C9_L' 'E0_L' 'E1_L' 'E10_L'\n",
      " 'E11_L' 'E12_L' 'E5_L' 'sem_15052023_L' 'A0_R' 'A1_R' 'A3_R' 'A4_R'\n",
      " 'A5_R' 'Arne_R' 'B1_R' 'C3_R' 'C5_R' 'C6_R' 'E0_R' 'E10_R' 'E11_R'\n",
      " 'E12_R' 'E2_R' 'E3_R' 'E4_R' 'E5_R' 'E6_R' 'E7_R' 'E8_R' 'E9_R'\n",
      " 'sem_15052023_R'] Test candidates: ['E3_L' 'E7_L' 'C1_R' 'C9_R']\n",
      "Loss and accuracy: [0.39919841289520264, 0.8666666746139526]\n",
      "-----------------------------------\n",
      "Fold 5 of 10. Training on: [ 0  1  2  3  4  5  6  8 10 11 12 13 14 15 16 17 18 19 20 21 22 23 24 25\n",
      " 26 27 28 29 30 32 33 34 36 37 38 39 40], testing on [ 7  9 31 35]\n",
      "Train candidates: ['Arne_L' 'B1_L' 'C2_L' 'C4_L' 'C5_L' 'C8_L' 'C9_L' 'E1_L' 'E11_L' 'E12_L'\n",
      " 'E3_L' 'E5_L' 'E7_L' 'sem_15052023_L' 'A0_R' 'A1_R' 'A3_R' 'A4_R' 'A5_R'\n",
      " 'Arne_R' 'B1_R' 'C1_R' 'C3_R' 'C5_R' 'C6_R' 'C9_R' 'E0_R' 'E10_R' 'E11_R'\n",
      " 'E2_R' 'E3_R' 'E4_R' 'E6_R' 'E7_R' 'E8_R' 'E9_R' 'sem_15052023_R'] Test candidates: ['E0_L' 'E10_L' 'E12_R' 'E5_R']\n",
      "Loss and accuracy: [0.7378252744674683, 0.8450704216957092]\n",
      "-----------------------------------\n",
      "Fold 6 of 10. Training on: [ 0  1  3  4  6  7  8  9 10 11 12 13 14 15 16 17 18 19 20 21 22 23 25 26\n",
      " 27 28 29 30 31 32 33 34 35 36 38 39 40], testing on [ 2  5 24 37]\n",
      "Train candidates: ['Arne_L' 'B1_L' 'C4_L' 'C5_L' 'C9_L' 'E0_L' 'E1_L' 'E10_L' 'E11_L'\n",
      " 'E12_L' 'E3_L' 'E5_L' 'E7_L' 'sem_15052023_L' 'A0_R' 'A1_R' 'A3_R' 'A4_R'\n",
      " 'A5_R' 'Arne_R' 'B1_R' 'C1_R' 'C5_R' 'C6_R' 'C9_R' 'E0_R' 'E10_R' 'E11_R'\n",
      " 'E12_R' 'E2_R' 'E3_R' 'E4_R' 'E5_R' 'E6_R' 'E8_R' 'E9_R' 'sem_15052023_R'] Test candidates: ['C2_L' 'C8_L' 'C3_R' 'E7_R']\n",
      "Loss and accuracy: [2.010899066925049, 0.6741071343421936]\n",
      "-----------------------------------\n",
      "Fold 7 of 10. Training on: [ 0  1  2  3  4  5  6  7  8  9 10 11 12 14 15 16 17 18 19 20 23 24 25 27\n",
      " 28 29 30 31 32 33 34 35 36 37 38 39 40], testing on [13 21 22 26]\n",
      "Train candidates: ['Arne_L' 'B1_L' 'C2_L' 'C4_L' 'C5_L' 'C8_L' 'C9_L' 'E0_L' 'E1_L' 'E10_L'\n",
      " 'E11_L' 'E12_L' 'E3_L' 'E7_L' 'sem_15052023_L' 'A0_R' 'A1_R' 'A3_R'\n",
      " 'A4_R' 'A5_R' 'C1_R' 'C3_R' 'C5_R' 'C9_R' 'E0_R' 'E10_R' 'E11_R' 'E12_R'\n",
      " 'E2_R' 'E3_R' 'E4_R' 'E5_R' 'E6_R' 'E7_R' 'E8_R' 'E9_R' 'sem_15052023_R'] Test candidates: ['E5_L' 'Arne_R' 'B1_R' 'C6_R']\n",
      "Loss and accuracy: [2.0569610595703125, 0.7475728392601013]\n",
      "-----------------------------------\n",
      "Fold 8 of 10. Training on: [ 0  1  2  3  4  5  6  7  9 10 11 12 13 14 15 16 18 19 20 21 22 23 24 25\n",
      " 26 27 28 29 31 32 33 35 36 37 38 39 40], testing on [ 8 17 30 34]\n",
      "Train candidates: ['Arne_L' 'B1_L' 'C2_L' 'C4_L' 'C5_L' 'C8_L' 'C9_L' 'E0_L' 'E10_L' 'E11_L'\n",
      " 'E12_L' 'E3_L' 'E5_L' 'E7_L' 'sem_15052023_L' 'A0_R' 'A3_R' 'A4_R' 'A5_R'\n",
      " 'Arne_R' 'B1_R' 'C1_R' 'C3_R' 'C5_R' 'C6_R' 'C9_R' 'E0_R' 'E10_R' 'E12_R'\n",
      " 'E2_R' 'E3_R' 'E5_R' 'E6_R' 'E7_R' 'E8_R' 'E9_R' 'sem_15052023_R'] Test candidates: ['E1_L' 'A1_R' 'E11_R' 'E4_R']\n",
      "Loss and accuracy: [1.4783791303634644, 0.7571428418159485]\n",
      "-----------------------------------\n",
      "Fold 9 of 10. Training on: [ 0  1  2  3  4  5  6  7  8  9 10 12 13 14 15 16 17 18 19 21 22 23 24 25\n",
      " 26 27 29 30 31 32 34 35 36 37 38 39 40], testing on [11 20 28 33]\n",
      "Train candidates: ['Arne_L' 'B1_L' 'C2_L' 'C4_L' 'C5_L' 'C8_L' 'C9_L' 'E0_L' 'E1_L' 'E10_L'\n",
      " 'E11_L' 'E3_L' 'E5_L' 'E7_L' 'sem_15052023_L' 'A0_R' 'A1_R' 'A3_R' 'A4_R'\n",
      " 'Arne_R' 'B1_R' 'C1_R' 'C3_R' 'C5_R' 'C6_R' 'C9_R' 'E10_R' 'E11_R'\n",
      " 'E12_R' 'E2_R' 'E4_R' 'E5_R' 'E6_R' 'E7_R' 'E8_R' 'E9_R' 'sem_15052023_R'] Test candidates: ['E12_L' 'A5_R' 'E0_R' 'E3_R']\n",
      "Loss and accuracy: [1.0966620445251465, 0.8067632913589478]\n",
      "-----------------------------------\n",
      "Fold 10 of 10. Training on: [ 1  2  3  4  5  6  7  8  9 10 11 12 13 14 15 17 18 19 20 21 22 23 24 25\n",
      " 26 27 28 29 30 31 32 33 34 35 37 38 40], testing on [ 0 16 36 39]\n",
      "Train candidates: ['B1_L' 'C2_L' 'C4_L' 'C5_L' 'C8_L' 'C9_L' 'E0_L' 'E1_L' 'E10_L' 'E11_L'\n",
      " 'E12_L' 'E3_L' 'E5_L' 'E7_L' 'sem_15052023_L' 'A1_R' 'A3_R' 'A4_R' 'A5_R'\n",
      " 'Arne_R' 'B1_R' 'C1_R' 'C3_R' 'C5_R' 'C6_R' 'C9_R' 'E0_R' 'E10_R' 'E11_R'\n",
      " 'E12_R' 'E2_R' 'E3_R' 'E4_R' 'E5_R' 'E7_R' 'E8_R' 'sem_15052023_R'] Test candidates: ['Arne_L' 'A0_R' 'E6_R' 'E9_R']\n",
      "Loss and accuracy: [1.9599730968475342, 0.6995074152946472]\n",
      "-----------------------------------\n"
     ]
    }
   ],
   "source": [
    "# General training of the model\n",
    "# model.fit(training_data, training_labels, batch_size=32, epochs=250)\n",
    "# model.fit(training_data, training_labels, batch_size=64, epochs=500)\n",
    "\n",
    "# Perform k-fold cross validation\n",
    "k = min(10, len(all_candidates))\n",
    "\n",
    "kfold = sk.model_selection.StratifiedKFold(n_splits=k, shuffle=True, random_state=sklearn_random_seed)\n",
    "kfold_scores = []\n",
    "confusion_matrices = []\n",
    "histories = []\n",
    "\n",
    "all_candidates = np.array(all_candidates)\n",
    "\n",
    "# Since there is an imbalance in the dataset we make use of stratified k-fold cross validation\n",
    "# Make a list of labels that correspond to the candidate's used hand. \n",
    "# If the candidate used their left hand, the label is 0, otherwise it is 1\n",
    "# Currently, done by checking if the candidate's name contains \"_L\", probably not the best way\n",
    "hand_labels = [0 if \"_L\" in candidate else 1 for candidate in all_candidates]\n",
    "\n",
    "print(f\"Training model with architecture: {curr_model.name} with {k}-fold cross validation\")\n",
    "left_hand_count = len([label for label in hand_labels if label == 0])\n",
    "print(f\"Using {len(all_candidates)} candidates/hands of which {left_hand_count} used their left hand and {len(all_candidates) - left_hand_count} used their right hand\")\n",
    "print(\"-----------------------------------\")\n",
    "\n",
    "# Add a callback to stop training early if the validation loss does not improve\n",
    "# Not using this since number of epochs was treated as a hyperparameter\n",
    "# early_stopping_callback = tf.keras.callbacks.EarlyStopping(monitor='loss', patience=10, restore_best_weights=True)\n",
    "\n",
    "for idx, (train, test) in enumerate(kfold.split(all_candidates, hand_labels)):\n",
    "    print(f\"Fold {idx + 1} of {k}. Training on: {train}, testing on {test}\")\n",
    "    print(\"Train candidates:\", all_candidates[train], \"Test candidates:\", all_candidates[test])\n",
    "    \n",
    "    # Specifying the model and compiling it\n",
    "    model = ModelConstructor.get_model(model=curr_model, input_shape=input_shape, \n",
    "                                       num_classes=num_classes, include_preprocessing=include_preprocessing_layers)\n",
    "    \n",
    "    model.compile(optimizer=tf.keras.optimizers.Adam(learning_rate=0.001), \n",
    "                  loss=tf.keras.losses.SparseCategoricalCrossentropy(),\n",
    "                  metrics=[tf.keras.metrics.SparseCategoricalAccuracy()])\n",
    "    \n",
    "    # When using categorical crossentropy, the labels need to be one-hot encoded instead of just being mapped to integers\n",
    "    # model.compile(optimizer=tf.keras.optimizers.Adam(learning_rate=0.001),\n",
    "    #                 loss=tf.keras.losses.CategoricalCrossentropy(),\n",
    "    #                 metrics=[tf.keras.metrics.CategoricalAccuracy()])\n",
    "    \n",
    "    # Getting the training and testing data\n",
    "    train_features, train_labels = data_loading.get_data_and_labels_from_candidates(all_candidates[train], all_data_per_candidate, input_shape=input_shape)\n",
    "    test_features, test_labels = data_loading.get_data_and_labels_from_candidates(all_candidates[test], all_data_per_candidate, input_shape=input_shape)\n",
    "\n",
    "    # Converting the labels to integers, important for the loss function to work\n",
    "    train_labels = data_loading.map_labels_to_integers(train_labels)\n",
    "    test_labels = data_loading.map_labels_to_integers(test_labels)\n",
    "\n",
    "    # Use this when using categorical crossentropy\n",
    "    # train_labels = data_loading.map_labels_to_one_hot_encoding(train_labels)\n",
    "    # test_labels = data_loading.map_labels_to_one_hot_encoding(test_labels)\n",
    "\n",
    "    # Training the model\n",
    "    # history = model.fit(train_features, train_labels, batch_size=batch_size, epochs=epochs, callbacks=[early_stopping_callback], verbose = 0)\n",
    "    history = model.fit(train_features, train_labels, batch_size=batch_size, epochs=epochs, verbose=0)\n",
    "\n",
    "    # Gathering results of this fold\n",
    "    histories.append(history)\n",
    "    score = model.evaluate(test_features, test_labels, verbose=0)\n",
    "    print(\"Loss and accuracy:\", score)\n",
    "    kfold_scores.append(score)\n",
    "    confusion_matrices.append(sk.metrics.confusion_matrix(test_labels, np.argmax(model.predict(test_features), axis=1)))\n",
    "\n",
    "    print(\"-----------------------------------\")\n"
   ]
  },
  {
   "attachments": {},
   "cell_type": "markdown",
   "metadata": {},
   "source": [
    "# Printing some of the validation results"
   ]
  },
  {
   "cell_type": "code",
   "execution_count": 7,
   "metadata": {},
   "outputs": [
    {
     "name": "stdout",
     "output_type": "stream",
     "text": [
      "Results of model with architecture: BEERNET_LITE with 10-fold cross validation. \n",
      "Using 41 candidates of which 16 used their left hand and 25 used their right hand.\n",
      "K-fold scores: [[2.126030445098877, 0.6716980934143066], [0.7209831476211548, 0.8394495248794556], [0.7445111274719238, 0.8382353186607361], [0.39919841289520264, 0.8666666746139526], [0.7378252744674683, 0.8450704216957092], [2.010899066925049, 0.6741071343421936], [2.0569610595703125, 0.7475728392601013], [1.4783791303634644, 0.7571428418159485], [1.0966620445251465, 0.8067632913589478], [1.9599730968475342, 0.6995074152946472]]\n",
      "Average k-fold score: [1.33314228 0.77462136]\n",
      "Std k-fold score: [0.63480327 0.07077674]\n",
      "1.3331422805786133 ± 0.6348032741502844\n",
      "0.7746213555335999 ± 0.07077674392862536\n",
      "Normalised confusion matrix\n"
     ]
    },
    {
     "data": {
      "image/png": "[encoded data removed]",
      "text/plain": [
       "<Figure size 432x288 with 2 Axes>"
      ]
     },
     "metadata": {
      "needs_background": "light"
     },
     "output_type": "display_data"
    },
    {
     "data": {
      "image/png": "[encoded data removed]",
      "text/plain": [
       "<Figure size 432x288 with 1 Axes>"
      ]
     },
     "metadata": {
      "needs_background": "light"
     },
     "output_type": "display_data"
    }
   ],
   "source": [
    "print(f\"Results of model with architecture: {curr_model.name} with {k}-fold cross validation. \")\n",
    "print(f\"Using {len(all_candidates)} candidates of which {left_hand_count} used their left hand and {len(all_candidates) - left_hand_count} used their right hand.\")\n",
    "print(\"K-fold scores:\", kfold_scores)\n",
    "mean_kfold_scores = np.mean(kfold_scores, axis=0)\n",
    "print(\"Average k-fold score:\", mean_kfold_scores)\n",
    "print(\"Std k-fold score:\", np.std(kfold_scores, axis=0))\n",
    "\n",
    "with np.printoptions(precision=5):\n",
    "    for avg, std in zip(mean_kfold_scores, np.std(kfold_scores, axis=0)):\n",
    "        # print({\"{:.3f}\".format(avg)} + \"±\" + \"{:.3f}\".format(std))\n",
    "        print(f\"{avg} ± {std}\")\n",
    "\n",
    "\n",
    "# Plot the confusion matrix\n",
    "confusion_matrix = np.mean(confusion_matrices, axis=0)\n",
    "data_visualisation.plot_confusion_matrix(confusion_matrix, [gesture.value for gesture in data_loading.GestureNames], normalize=True)\n",
    "\n",
    "# Plot the training history by averaging the histories over the k-folds\n",
    "loss = np.mean([history.history['loss'] for history in histories], axis=0)\n",
    "accuracy = np.mean([history.history['sparse_categorical_accuracy'] for history in histories], axis=0)\n",
    "# accuracy = np.mean([history.history['categorical_accuracy'] for history in histories], axis=0)\n",
    "data_visualisation.plot_loss_and_accuracy(loss, accuracy)"
   ]
  },
  {
   "attachments": {},
   "cell_type": "markdown",
   "metadata": {},
   "source": [
    "# Training the model with the entire dataset"
   ]
  },
  {
   "cell_type": "code",
   "execution_count": 8,
   "metadata": {},
   "outputs": [
    {
     "name": "stdout",
     "output_type": "stream",
     "text": [
      "Training on all data finished.\n",
      "INFO:tensorflow:Assets written to: C:\\Users\\arned\\AppData\\Local\\Temp\\tmp73eeqss8\\assets\n"
     ]
    },
    {
     "name": "stderr",
     "output_type": "stream",
     "text": [
      "WARNING:absl:Buffer deduplication procedure will be skipped when flatbuffer library is not properly loaded\n"
     ]
    }
   ],
   "source": [
    "# After K-fold cross validation, reset the weights of the model to the initial weights\n",
    "model.set_weights(initial_weights)\n",
    "\n",
    "# And now we can train the model on all the data (training + testing)\n",
    "all_labels = data_loading.map_labels_to_integers(all_labels)\n",
    "model.fit(all_data, all_labels, batch_size=batch_size, epochs=epochs, verbose=0)\n",
    "\n",
    "print(\"Training on all data finished.\")\n",
    "\n",
    "# Save the model as a .tflite file so that it can be compared to the quantized model\n",
    "converter = tf.lite.TFLiteConverter.from_keras_model(model)\n",
    "tflite_model = converter.convert()\n",
    "\n",
    "with open(f\"models/{curr_model.name}_epochs_{epochs}_batch_size_{batch_size}_include_preprocessing_{include_preprocessing_layers}.tflite\", 'wb') as f:\n",
    "    f.write(tflite_model)\n",
    "\n",
    "# history = model.history.history\n",
    "# Plot the loss and accuracy\n",
    "# data_visualisation.plot_loss_and_accuracy(history['loss'], history['sparse_categorical_accuracy'])"
   ]
  },
  {
   "cell_type": "code",
   "execution_count": 9,
   "metadata": {},
   "outputs": [
    {
     "name": "stdout",
     "output_type": "stream",
     "text": [
      "Couldn't find program: 'false'\n"
     ]
    }
   ],
   "source": [
    "%%script false\n",
    "\n",
    "# This is not needed if we use K-fold cross validation\n",
    "# To use this define ``testing_data`` and ``testing_labels``.\n",
    "\n",
    "predictions = model.predict(testing_data)\n",
    "\n",
    "gesture_classes = list(data_loading.GestureNames)\n",
    "\n",
    "for i in range(len(predictions)):\n",
    "    with np.printoptions(precision=6, suppress=True):\n",
    "        print(f\"Actual: {gesture_classes[testing_labels[i]]}, Predicted: {gesture_classes[np.argmax(predictions[i])]}\")\n",
    "        print(f\"Confidence of prediction: {np.max(predictions[i])}, All predictions: {predictions[i]}\")\n",
    "\n",
    "    # Plot sample if it is wrong\n",
    "    if testing_labels[i] != np.argmax(predictions[i]):\n",
    "        try:\n",
    "            data_visualisation.plot_data_as_image(testing_data[i], label=f\"Predicted: {gesture_classes[np.argmax(predictions[i])]}, Actual: {gesture_classes[testing_labels[i]]}\")\n",
    "            data_visualisation.plot_data_as_graph(testing_data[i], title=f\"Predicted: {gesture_classes[np.argmax(predictions[i])]}, Actual: {gesture_classes[testing_labels[i]]}\")\n",
    "        except:\n",
    "            pass\n",
    "\n",
    "    print(\"\")\n"
   ]
  },
  {
   "attachments": {},
   "cell_type": "markdown",
   "metadata": {},
   "source": [
    "# Exporting our model for TFLite"
   ]
  },
  {
   "cell_type": "code",
   "execution_count": 10,
   "metadata": {},
   "outputs": [
    {
     "name": "stdout",
     "output_type": "stream",
     "text": [
      "INFO:tensorflow:Assets written to: C:\\Users\\arned\\AppData\\Local\\Temp\\tmpldruzyry\\assets\n"
     ]
    },
    {
     "name": "stderr",
     "output_type": "stream",
     "text": [
      "INFO:tensorflow:Assets written to: C:\\Users\\arned\\AppData\\Local\\Temp\\tmpldruzyry\\assets\n",
      "c:\\Python310\\lib\\site-packages\\tensorflow\\lite\\python\\convert.py:746: UserWarning: Statistics for quantized inputs were expected, but not specified; continuing anyway.\n",
      "  warnings.warn(\"Statistics for quantized inputs were expected, but not \"\n",
      "WARNING:absl:Buffer deduplication procedure will be skipped when flatbuffer library is not properly loaded\n"
     ]
    },
    {
     "name": "stdout",
     "output_type": "stream",
     "text": [
      "Model converted to tflite\n"
     ]
    }
   ],
   "source": [
    "model_convertor.quantize_model(model, all_data, write_to_file=True)\n",
    "\n",
    "print(\"Model converted to tflite\")"
   ]
  },
  {
   "attachments": {},
   "cell_type": "markdown",
   "metadata": {},
   "source": [
    "# Validating compressed model"
   ]
  },
  {
   "cell_type": "code",
   "execution_count": 11,
   "metadata": {},
   "outputs": [
    {
     "name": "stdout",
     "output_type": "stream",
     "text": [
      "Label:  4\n",
      "Output: {'predictions': array([[0.        , 0.        , 0.        , 0.        , 0.99609375,\n",
      "        0.        , 0.        , 0.        , 0.        , 0.        ]],\n",
      "      dtype=float32)}\n"
     ]
    }
   ],
   "source": [
    "# Load the TFLite model\n",
    "interpreter = tf.lite.Interpreter(model_path=\"converted_model.tflite\")\n",
    "interpreter.allocate_tensors()\n",
    "signature = interpreter.get_signature_runner()\n",
    "\n",
    "# print(\"input details:\", interpreter.get_input_details())\n",
    "# print(\"output details:\", interpreter.get_output_details())\n",
    "# print(\"input shape:\", interpreter.get_input_details()[0]['shape'])\n",
    "\n",
    "# Get one sample of data to test the model from all the data.\n",
    "# Use the first sample of data.\n",
    "# Do note that this sample is used in the training data, so the model has seen this sample before and this is only for verification purposes.\n",
    "i = 123\n",
    "sample_data = np.expand_dims(all_data[i], axis=0)\n",
    "print(\"Label: \", all_labels[i])\n",
    "output = signature(sensor_image=sample_data.astype(np.float32))\n",
    "print(\"Output:\", output)"
   ]
  },
  {
   "attachments": {},
   "cell_type": "markdown",
   "metadata": {},
   "source": [
    "# Converting the TFLite to C code\n",
    "\n",
    "Run this command:\n",
    "\n",
    "```\n",
    "xxd -i converted_model.tflite > model_data.cpp\n",
    "```"
   ]
  }
 ],
 "metadata": {
  "kernelspec": {
   "display_name": ".venv",
   "language": "python",
   "name": "python3"
  },
  "language_info": {
   "codemirror_mode": {
    "name": "ipython",
    "version": 3
   },
   "file_extension": ".py",
   "mimetype": "text/x-python",
   "name": "python",
   "nbconvert_exporter": "python",
   "pygments_lexer": "ipython3",
   "version": "3.10.11"
  },
  "orig_nbformat": 4
 },
 "nbformat": 4,
 "nbformat_minor": 2
}
